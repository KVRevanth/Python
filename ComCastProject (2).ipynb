{
 "cells": [
  {
   "cell_type": "code",
   "execution_count": 1,
   "metadata": {},
   "outputs": [],
   "source": [
    "#Import the data into Python \n",
    "import pandas as pd\n",
    "import datetime as dt"
   ]
  },
  {
   "cell_type": "code",
   "execution_count": 2,
   "metadata": {},
   "outputs": [],
   "source": [
    "df = pd.read_csv('Comcast_telecom_complaints_data.csv')"
   ]
  },
  {
   "cell_type": "code",
   "execution_count": 3,
   "metadata": {},
   "outputs": [
    {
     "data": {
      "text/html": [
       "<div>\n",
       "<style scoped>\n",
       "    .dataframe tbody tr th:only-of-type {\n",
       "        vertical-align: middle;\n",
       "    }\n",
       "\n",
       "    .dataframe tbody tr th {\n",
       "        vertical-align: top;\n",
       "    }\n",
       "\n",
       "    .dataframe thead th {\n",
       "        text-align: right;\n",
       "    }\n",
       "</style>\n",
       "<table border=\"1\" class=\"dataframe\">\n",
       "  <thead>\n",
       "    <tr style=\"text-align: right;\">\n",
       "      <th></th>\n",
       "      <th>Ticket #</th>\n",
       "      <th>Customer Complaint</th>\n",
       "      <th>Date</th>\n",
       "      <th>Date_month_year</th>\n",
       "      <th>Time</th>\n",
       "      <th>Received Via</th>\n",
       "      <th>City</th>\n",
       "      <th>State</th>\n",
       "      <th>Zip code</th>\n",
       "      <th>Status</th>\n",
       "      <th>Filing on Behalf of Someone</th>\n",
       "    </tr>\n",
       "  </thead>\n",
       "  <tbody>\n",
       "    <tr>\n",
       "      <th>0</th>\n",
       "      <td>250635</td>\n",
       "      <td>Comcast Cable Internet Speeds</td>\n",
       "      <td>22-04-15</td>\n",
       "      <td>22-Apr-15</td>\n",
       "      <td>3:53:50 PM</td>\n",
       "      <td>Customer Care Call</td>\n",
       "      <td>Abingdon</td>\n",
       "      <td>Maryland</td>\n",
       "      <td>21009</td>\n",
       "      <td>Closed</td>\n",
       "      <td>No</td>\n",
       "    </tr>\n",
       "    <tr>\n",
       "      <th>1</th>\n",
       "      <td>223441</td>\n",
       "      <td>Payment disappear - service got disconnected</td>\n",
       "      <td>04-08-15</td>\n",
       "      <td>04-Aug-15</td>\n",
       "      <td>10:22:56 AM</td>\n",
       "      <td>Internet</td>\n",
       "      <td>Acworth</td>\n",
       "      <td>Georgia</td>\n",
       "      <td>30102</td>\n",
       "      <td>Closed</td>\n",
       "      <td>No</td>\n",
       "    </tr>\n",
       "    <tr>\n",
       "      <th>2</th>\n",
       "      <td>242732</td>\n",
       "      <td>Speed and Service</td>\n",
       "      <td>18-04-15</td>\n",
       "      <td>18-Apr-15</td>\n",
       "      <td>9:55:47 AM</td>\n",
       "      <td>Internet</td>\n",
       "      <td>Acworth</td>\n",
       "      <td>Georgia</td>\n",
       "      <td>30101</td>\n",
       "      <td>Closed</td>\n",
       "      <td>Yes</td>\n",
       "    </tr>\n",
       "    <tr>\n",
       "      <th>3</th>\n",
       "      <td>277946</td>\n",
       "      <td>Comcast Imposed a New Usage Cap of 300GB that ...</td>\n",
       "      <td>05-07-15</td>\n",
       "      <td>05-Jul-15</td>\n",
       "      <td>11:59:35 AM</td>\n",
       "      <td>Internet</td>\n",
       "      <td>Acworth</td>\n",
       "      <td>Georgia</td>\n",
       "      <td>30101</td>\n",
       "      <td>Open</td>\n",
       "      <td>Yes</td>\n",
       "    </tr>\n",
       "    <tr>\n",
       "      <th>4</th>\n",
       "      <td>307175</td>\n",
       "      <td>Comcast not working and no service to boot</td>\n",
       "      <td>26-05-15</td>\n",
       "      <td>26-May-15</td>\n",
       "      <td>1:25:26 PM</td>\n",
       "      <td>Internet</td>\n",
       "      <td>Acworth</td>\n",
       "      <td>Georgia</td>\n",
       "      <td>30101</td>\n",
       "      <td>Solved</td>\n",
       "      <td>No</td>\n",
       "    </tr>\n",
       "  </tbody>\n",
       "</table>\n",
       "</div>"
      ],
      "text/plain": [
       "  Ticket #                                 Customer Complaint      Date  \\\n",
       "0   250635                      Comcast Cable Internet Speeds  22-04-15   \n",
       "1   223441       Payment disappear - service got disconnected  04-08-15   \n",
       "2   242732                                  Speed and Service  18-04-15   \n",
       "3   277946  Comcast Imposed a New Usage Cap of 300GB that ...  05-07-15   \n",
       "4   307175         Comcast not working and no service to boot  26-05-15   \n",
       "\n",
       "  Date_month_year         Time        Received Via      City     State  \\\n",
       "0       22-Apr-15   3:53:50 PM  Customer Care Call  Abingdon  Maryland   \n",
       "1       04-Aug-15  10:22:56 AM            Internet   Acworth   Georgia   \n",
       "2       18-Apr-15   9:55:47 AM            Internet   Acworth   Georgia   \n",
       "3       05-Jul-15  11:59:35 AM            Internet   Acworth   Georgia   \n",
       "4       26-May-15   1:25:26 PM            Internet   Acworth   Georgia   \n",
       "\n",
       "   Zip code  Status Filing on Behalf of Someone  \n",
       "0     21009  Closed                          No  \n",
       "1     30102  Closed                          No  \n",
       "2     30101  Closed                         Yes  \n",
       "3     30101    Open                         Yes  \n",
       "4     30101  Solved                          No  "
      ]
     },
     "execution_count": 3,
     "metadata": {},
     "output_type": "execute_result"
    }
   ],
   "source": [
    "df.head()"
   ]
  },
  {
   "cell_type": "code",
   "execution_count": 123,
   "metadata": {},
   "outputs": [
    {
     "data": {
      "text/plain": [
       "<bound method DataFrame.info of                     Ticket #  \\\n",
       "New_Date_with_time             \n",
       "2015-04-22 15:53:50   250635   \n",
       "2015-08-04 10:22:56   223441   \n",
       "2015-04-18 09:55:47   242732   \n",
       "2015-07-05 11:59:35   277946   \n",
       "2015-05-26 13:25:26   307175   \n",
       "...                      ...   \n",
       "2015-02-04 09:13:18   213550   \n",
       "2015-02-06 13:24:39   318775   \n",
       "2015-09-06 17:28:41   331188   \n",
       "2015-06-23 23:13:30   360489   \n",
       "2015-06-24 22:28:33   363614   \n",
       "\n",
       "                                                    Customer Complaint  \\\n",
       "New_Date_with_time                                                       \n",
       "2015-04-22 15:53:50                      Comcast Cable Internet Speeds   \n",
       "2015-08-04 10:22:56       Payment disappear - service got disconnected   \n",
       "2015-04-18 09:55:47                                  Speed and Service   \n",
       "2015-07-05 11:59:35  Comcast Imposed a New Usage Cap of 300GB that ...   \n",
       "2015-05-26 13:25:26         Comcast not working and no service to boot   \n",
       "...                                                                ...   \n",
       "2015-02-04 09:13:18                               Service Availability   \n",
       "2015-02-06 13:24:39         Comcast Monthly Billing for Returned Modem   \n",
       "2015-09-06 17:28:41                            complaint about comcast   \n",
       "2015-06-23 23:13:30             Extremely unsatisfied Comcast customer   \n",
       "2015-06-24 22:28:33               Comcast, Ypsilanti MI Internet Speed   \n",
       "\n",
       "                         Date Date_month_year         Time  \\\n",
       "New_Date_with_time                                           \n",
       "2015-04-22 15:53:50  22-04-15       22-Apr-15   3:53:50 PM   \n",
       "2015-08-04 10:22:56  04-08-15       04-Aug-15  10:22:56 AM   \n",
       "2015-04-18 09:55:47  18-04-15       18-Apr-15   9:55:47 AM   \n",
       "2015-07-05 11:59:35  05-07-15       05-Jul-15  11:59:35 AM   \n",
       "2015-05-26 13:25:26  26-05-15       26-May-15   1:25:26 PM   \n",
       "...                       ...             ...          ...   \n",
       "2015-02-04 09:13:18  04-02-15       04-Feb-15   9:13:18 AM   \n",
       "2015-02-06 13:24:39  06-02-15       06-Feb-15   1:24:39 PM   \n",
       "2015-09-06 17:28:41  06-09-15       06-Sep-15   5:28:41 PM   \n",
       "2015-06-23 23:13:30  23-06-15       23-Jun-15  11:13:30 PM   \n",
       "2015-06-24 22:28:33  24-06-15       24-Jun-15  10:28:33 PM   \n",
       "\n",
       "                           Received Via        City     State  Zip code  \\\n",
       "New_Date_with_time                                                        \n",
       "2015-04-22 15:53:50  Customer Care Call    Abingdon  Maryland     21009   \n",
       "2015-08-04 10:22:56            Internet     Acworth   Georgia     30102   \n",
       "2015-04-18 09:55:47            Internet     Acworth   Georgia     30101   \n",
       "2015-07-05 11:59:35            Internet     Acworth   Georgia     30101   \n",
       "2015-05-26 13:25:26            Internet     Acworth   Georgia     30101   \n",
       "...                                 ...         ...       ...       ...   \n",
       "2015-02-04 09:13:18  Customer Care Call  Youngstown   Florida     32466   \n",
       "2015-02-06 13:24:39  Customer Care Call   Ypsilanti  Michigan     48197   \n",
       "2015-09-06 17:28:41            Internet   Ypsilanti  Michigan     48197   \n",
       "2015-06-23 23:13:30  Customer Care Call   Ypsilanti  Michigan     48197   \n",
       "2015-06-24 22:28:33  Customer Care Call   Ypsilanti  Michigan     48198   \n",
       "\n",
       "                     Status Filing on Behalf of Someone  New_Date_with_time  \\\n",
       "New_Date_with_time                                                            \n",
       "2015-04-22 15:53:50  Closed                          No 2015-04-22 15:53:50   \n",
       "2015-08-04 10:22:56  Closed                          No 2015-08-04 10:22:56   \n",
       "2015-04-18 09:55:47  Closed                         Yes 2015-04-18 09:55:47   \n",
       "2015-07-05 11:59:35    Open                         Yes 2015-07-05 11:59:35   \n",
       "2015-05-26 13:25:26  Solved                          No 2015-05-26 13:25:26   \n",
       "...                     ...                         ...                 ...   \n",
       "2015-02-04 09:13:18  Closed                          No 2015-02-04 09:13:18   \n",
       "2015-02-06 13:24:39  Solved                          No 2015-02-06 13:24:39   \n",
       "2015-09-06 17:28:41  Solved                          No 2015-09-06 17:28:41   \n",
       "2015-06-23 23:13:30  Solved                          No 2015-06-23 23:13:30   \n",
       "2015-06-24 22:28:33    Open                         Yes 2015-06-24 22:28:33   \n",
       "\n",
       "                     New_Month New_Date New_Year        Day Hour New_Status  \n",
       "New_Date_with_time                                                           \n",
       "2015-04-22 15:53:50      April       22     2015  Wednesday   15     Closed  \n",
       "2015-08-04 10:22:56     August       04     2015    Tuesday   10     Closed  \n",
       "2015-04-18 09:55:47      April       18     2015   Saturday   09     Closed  \n",
       "2015-07-05 11:59:35       July       05     2015     Sunday   11       Open  \n",
       "2015-05-26 13:25:26        May       26     2015    Tuesday   13     Closed  \n",
       "...                        ...      ...      ...        ...  ...        ...  \n",
       "2015-02-04 09:13:18   February       04     2015  Wednesday   09     Closed  \n",
       "2015-02-06 13:24:39   February       06     2015     Friday   13     Closed  \n",
       "2015-09-06 17:28:41  September       06     2015     Sunday   17     Closed  \n",
       "2015-06-23 23:13:30       June       23     2015    Tuesday   23     Closed  \n",
       "2015-06-24 22:28:33       June       24     2015  Wednesday   22       Open  \n",
       "\n",
       "[2224 rows x 18 columns]>"
      ]
     },
     "execution_count": 123,
     "metadata": {},
     "output_type": "execute_result"
    }
   ],
   "source": [
    "df.shape#check dataset size and shape\n",
    "df.info\n",
    "#df.describe()"
   ]
  },
  {
   "cell_type": "code",
   "execution_count": 5,
   "metadata": {},
   "outputs": [
    {
     "data": {
      "text/plain": [
       "Index(['Ticket #', 'Customer Complaint', 'Date', 'Date_month_year', 'Time',\n",
       "       'Received Via', 'City', 'State', 'Zip code', 'Status',\n",
       "       'Filing on Behalf of Someone'],\n",
       "      dtype='object')"
      ]
     },
     "execution_count": 5,
     "metadata": {},
     "output_type": "execute_result"
    }
   ],
   "source": [
    "df.columns#check columns"
   ]
  },
  {
   "cell_type": "code",
   "execution_count": 6,
   "metadata": {},
   "outputs": [
    {
     "data": {
      "text/plain": [
       "RangeIndex(start=0, stop=2224, step=1)"
      ]
     },
     "execution_count": 6,
     "metadata": {},
     "output_type": "execute_result"
    }
   ],
   "source": [
    "df.index#check index"
   ]
  },
  {
   "cell_type": "code",
   "execution_count": 7,
   "metadata": {},
   "outputs": [
    {
     "name": "stdout",
     "output_type": "stream",
     "text": [
      "<class 'pandas.core.frame.DataFrame'>\n",
      "RangeIndex: 2224 entries, 0 to 2223\n",
      "Data columns (total 11 columns):\n",
      " #   Column                       Non-Null Count  Dtype \n",
      "---  ------                       --------------  ----- \n",
      " 0   Ticket #                     2224 non-null   object\n",
      " 1   Customer Complaint           2224 non-null   object\n",
      " 2   Date                         2224 non-null   object\n",
      " 3   Date_month_year              2224 non-null   object\n",
      " 4   Time                         2224 non-null   object\n",
      " 5   Received Via                 2224 non-null   object\n",
      " 6   City                         2224 non-null   object\n",
      " 7   State                        2224 non-null   object\n",
      " 8   Zip code                     2224 non-null   int64 \n",
      " 9   Status                       2224 non-null   object\n",
      " 10  Filing on Behalf of Someone  2224 non-null   object\n",
      "dtypes: int64(1), object(10)\n",
      "memory usage: 191.2+ KB\n"
     ]
    }
   ],
   "source": [
    "df.info() #Check for NAN values if any in the data set "
   ]
  },
  {
   "cell_type": "code",
   "execution_count": 8,
   "metadata": {},
   "outputs": [],
   "source": [
    "# Provide the trend chart for the number of complaints at monthly and daily granularity levels\n",
    "#split date_month_year into different columns"
   ]
  },
  {
   "cell_type": "code",
   "execution_count": 9,
   "metadata": {},
   "outputs": [
    {
     "data": {
      "text/html": [
       "<div>\n",
       "<style scoped>\n",
       "    .dataframe tbody tr th:only-of-type {\n",
       "        vertical-align: middle;\n",
       "    }\n",
       "\n",
       "    .dataframe tbody tr th {\n",
       "        vertical-align: top;\n",
       "    }\n",
       "\n",
       "    .dataframe thead th {\n",
       "        text-align: right;\n",
       "    }\n",
       "</style>\n",
       "<table border=\"1\" class=\"dataframe\">\n",
       "  <thead>\n",
       "    <tr style=\"text-align: right;\">\n",
       "      <th></th>\n",
       "      <th>Ticket #</th>\n",
       "      <th>Customer Complaint</th>\n",
       "      <th>Date</th>\n",
       "      <th>Date_month_year</th>\n",
       "      <th>Time</th>\n",
       "      <th>Received Via</th>\n",
       "      <th>City</th>\n",
       "      <th>State</th>\n",
       "      <th>Zip code</th>\n",
       "      <th>Status</th>\n",
       "      <th>Filing on Behalf of Someone</th>\n",
       "      <th>New_Date_with_time</th>\n",
       "    </tr>\n",
       "  </thead>\n",
       "  <tbody>\n",
       "    <tr>\n",
       "      <th>0</th>\n",
       "      <td>250635</td>\n",
       "      <td>Comcast Cable Internet Speeds</td>\n",
       "      <td>22-04-15</td>\n",
       "      <td>22-Apr-15</td>\n",
       "      <td>3:53:50 PM</td>\n",
       "      <td>Customer Care Call</td>\n",
       "      <td>Abingdon</td>\n",
       "      <td>Maryland</td>\n",
       "      <td>21009</td>\n",
       "      <td>Closed</td>\n",
       "      <td>No</td>\n",
       "      <td>2015-04-22 15:53:50</td>\n",
       "    </tr>\n",
       "    <tr>\n",
       "      <th>1</th>\n",
       "      <td>223441</td>\n",
       "      <td>Payment disappear - service got disconnected</td>\n",
       "      <td>04-08-15</td>\n",
       "      <td>04-Aug-15</td>\n",
       "      <td>10:22:56 AM</td>\n",
       "      <td>Internet</td>\n",
       "      <td>Acworth</td>\n",
       "      <td>Georgia</td>\n",
       "      <td>30102</td>\n",
       "      <td>Closed</td>\n",
       "      <td>No</td>\n",
       "      <td>2015-08-04 10:22:56</td>\n",
       "    </tr>\n",
       "    <tr>\n",
       "      <th>2</th>\n",
       "      <td>242732</td>\n",
       "      <td>Speed and Service</td>\n",
       "      <td>18-04-15</td>\n",
       "      <td>18-Apr-15</td>\n",
       "      <td>9:55:47 AM</td>\n",
       "      <td>Internet</td>\n",
       "      <td>Acworth</td>\n",
       "      <td>Georgia</td>\n",
       "      <td>30101</td>\n",
       "      <td>Closed</td>\n",
       "      <td>Yes</td>\n",
       "      <td>2015-04-18 09:55:47</td>\n",
       "    </tr>\n",
       "    <tr>\n",
       "      <th>3</th>\n",
       "      <td>277946</td>\n",
       "      <td>Comcast Imposed a New Usage Cap of 300GB that ...</td>\n",
       "      <td>05-07-15</td>\n",
       "      <td>05-Jul-15</td>\n",
       "      <td>11:59:35 AM</td>\n",
       "      <td>Internet</td>\n",
       "      <td>Acworth</td>\n",
       "      <td>Georgia</td>\n",
       "      <td>30101</td>\n",
       "      <td>Open</td>\n",
       "      <td>Yes</td>\n",
       "      <td>2015-07-05 11:59:35</td>\n",
       "    </tr>\n",
       "    <tr>\n",
       "      <th>4</th>\n",
       "      <td>307175</td>\n",
       "      <td>Comcast not working and no service to boot</td>\n",
       "      <td>26-05-15</td>\n",
       "      <td>26-May-15</td>\n",
       "      <td>1:25:26 PM</td>\n",
       "      <td>Internet</td>\n",
       "      <td>Acworth</td>\n",
       "      <td>Georgia</td>\n",
       "      <td>30101</td>\n",
       "      <td>Solved</td>\n",
       "      <td>No</td>\n",
       "      <td>2015-05-26 13:25:26</td>\n",
       "    </tr>\n",
       "  </tbody>\n",
       "</table>\n",
       "</div>"
      ],
      "text/plain": [
       "  Ticket #                                 Customer Complaint      Date  \\\n",
       "0   250635                      Comcast Cable Internet Speeds  22-04-15   \n",
       "1   223441       Payment disappear - service got disconnected  04-08-15   \n",
       "2   242732                                  Speed and Service  18-04-15   \n",
       "3   277946  Comcast Imposed a New Usage Cap of 300GB that ...  05-07-15   \n",
       "4   307175         Comcast not working and no service to boot  26-05-15   \n",
       "\n",
       "  Date_month_year         Time        Received Via      City     State  \\\n",
       "0       22-Apr-15   3:53:50 PM  Customer Care Call  Abingdon  Maryland   \n",
       "1       04-Aug-15  10:22:56 AM            Internet   Acworth   Georgia   \n",
       "2       18-Apr-15   9:55:47 AM            Internet   Acworth   Georgia   \n",
       "3       05-Jul-15  11:59:35 AM            Internet   Acworth   Georgia   \n",
       "4       26-May-15   1:25:26 PM            Internet   Acworth   Georgia   \n",
       "\n",
       "   Zip code  Status Filing on Behalf of Someone  New_Date_with_time  \n",
       "0     21009  Closed                          No 2015-04-22 15:53:50  \n",
       "1     30102  Closed                          No 2015-08-04 10:22:56  \n",
       "2     30101  Closed                         Yes 2015-04-18 09:55:47  \n",
       "3     30101    Open                         Yes 2015-07-05 11:59:35  \n",
       "4     30101  Solved                          No 2015-05-26 13:25:26  "
      ]
     },
     "execution_count": 9,
     "metadata": {},
     "output_type": "execute_result"
    }
   ],
   "source": [
    "#Step1 : Convert Object type into Date Type in the Dataset with the help datetime funtion \n",
    "df['New_Date_with_time']=df['Date']+' '+df['Time']\n",
    "df['New_Date_with_time']= pd.to_datetime(df['New_Date_with_time'],format='%d-%m-%y %I:%M:%S %p')\n",
    "df.head()"
   ]
  },
  {
   "cell_type": "code",
   "execution_count": 10,
   "metadata": {},
   "outputs": [
    {
     "name": "stdout",
     "output_type": "stream",
     "text": [
      "<class 'pandas.core.frame.DataFrame'>\n",
      "RangeIndex: 2224 entries, 0 to 2223\n",
      "Data columns (total 17 columns):\n",
      " #   Column                       Non-Null Count  Dtype         \n",
      "---  ------                       --------------  -----         \n",
      " 0   Ticket #                     2224 non-null   object        \n",
      " 1   Customer Complaint           2224 non-null   object        \n",
      " 2   Date                         2224 non-null   object        \n",
      " 3   Date_month_year              2224 non-null   object        \n",
      " 4   Time                         2224 non-null   object        \n",
      " 5   Received Via                 2224 non-null   object        \n",
      " 6   City                         2224 non-null   object        \n",
      " 7   State                        2224 non-null   object        \n",
      " 8   Zip code                     2224 non-null   int64         \n",
      " 9   Status                       2224 non-null   object        \n",
      " 10  Filing on Behalf of Someone  2224 non-null   object        \n",
      " 11  New_Date_with_time           2224 non-null   datetime64[ns]\n",
      " 12  New_Month                    2224 non-null   object        \n",
      " 13  New_Date                     2224 non-null   object        \n",
      " 14  New_Year                     2224 non-null   object        \n",
      " 15  Day                          2224 non-null   object        \n",
      " 16  Hour                         2224 non-null   object        \n",
      "dtypes: datetime64[ns](1), int64(1), object(15)\n",
      "memory usage: 295.5+ KB\n"
     ]
    },
    {
     "data": {
      "text/html": [
       "<div>\n",
       "<style scoped>\n",
       "    .dataframe tbody tr th:only-of-type {\n",
       "        vertical-align: middle;\n",
       "    }\n",
       "\n",
       "    .dataframe tbody tr th {\n",
       "        vertical-align: top;\n",
       "    }\n",
       "\n",
       "    .dataframe thead th {\n",
       "        text-align: right;\n",
       "    }\n",
       "</style>\n",
       "<table border=\"1\" class=\"dataframe\">\n",
       "  <thead>\n",
       "    <tr style=\"text-align: right;\">\n",
       "      <th></th>\n",
       "      <th>Ticket #</th>\n",
       "      <th>Customer Complaint</th>\n",
       "      <th>Date</th>\n",
       "      <th>Date_month_year</th>\n",
       "      <th>Time</th>\n",
       "      <th>Received Via</th>\n",
       "      <th>City</th>\n",
       "      <th>State</th>\n",
       "      <th>Zip code</th>\n",
       "      <th>Status</th>\n",
       "      <th>Filing on Behalf of Someone</th>\n",
       "      <th>New_Date_with_time</th>\n",
       "      <th>New_Month</th>\n",
       "      <th>New_Date</th>\n",
       "      <th>New_Year</th>\n",
       "      <th>Day</th>\n",
       "      <th>Hour</th>\n",
       "    </tr>\n",
       "  </thead>\n",
       "  <tbody>\n",
       "    <tr>\n",
       "      <th>0</th>\n",
       "      <td>250635</td>\n",
       "      <td>Comcast Cable Internet Speeds</td>\n",
       "      <td>22-04-15</td>\n",
       "      <td>22-Apr-15</td>\n",
       "      <td>3:53:50 PM</td>\n",
       "      <td>Customer Care Call</td>\n",
       "      <td>Abingdon</td>\n",
       "      <td>Maryland</td>\n",
       "      <td>21009</td>\n",
       "      <td>Closed</td>\n",
       "      <td>No</td>\n",
       "      <td>2015-04-22 15:53:50</td>\n",
       "      <td>April</td>\n",
       "      <td>22</td>\n",
       "      <td>2015</td>\n",
       "      <td>Wednesday</td>\n",
       "      <td>15</td>\n",
       "    </tr>\n",
       "    <tr>\n",
       "      <th>1</th>\n",
       "      <td>223441</td>\n",
       "      <td>Payment disappear - service got disconnected</td>\n",
       "      <td>04-08-15</td>\n",
       "      <td>04-Aug-15</td>\n",
       "      <td>10:22:56 AM</td>\n",
       "      <td>Internet</td>\n",
       "      <td>Acworth</td>\n",
       "      <td>Georgia</td>\n",
       "      <td>30102</td>\n",
       "      <td>Closed</td>\n",
       "      <td>No</td>\n",
       "      <td>2015-08-04 10:22:56</td>\n",
       "      <td>August</td>\n",
       "      <td>04</td>\n",
       "      <td>2015</td>\n",
       "      <td>Tuesday</td>\n",
       "      <td>10</td>\n",
       "    </tr>\n",
       "    <tr>\n",
       "      <th>2</th>\n",
       "      <td>242732</td>\n",
       "      <td>Speed and Service</td>\n",
       "      <td>18-04-15</td>\n",
       "      <td>18-Apr-15</td>\n",
       "      <td>9:55:47 AM</td>\n",
       "      <td>Internet</td>\n",
       "      <td>Acworth</td>\n",
       "      <td>Georgia</td>\n",
       "      <td>30101</td>\n",
       "      <td>Closed</td>\n",
       "      <td>Yes</td>\n",
       "      <td>2015-04-18 09:55:47</td>\n",
       "      <td>April</td>\n",
       "      <td>18</td>\n",
       "      <td>2015</td>\n",
       "      <td>Saturday</td>\n",
       "      <td>09</td>\n",
       "    </tr>\n",
       "    <tr>\n",
       "      <th>3</th>\n",
       "      <td>277946</td>\n",
       "      <td>Comcast Imposed a New Usage Cap of 300GB that ...</td>\n",
       "      <td>05-07-15</td>\n",
       "      <td>05-Jul-15</td>\n",
       "      <td>11:59:35 AM</td>\n",
       "      <td>Internet</td>\n",
       "      <td>Acworth</td>\n",
       "      <td>Georgia</td>\n",
       "      <td>30101</td>\n",
       "      <td>Open</td>\n",
       "      <td>Yes</td>\n",
       "      <td>2015-07-05 11:59:35</td>\n",
       "      <td>July</td>\n",
       "      <td>05</td>\n",
       "      <td>2015</td>\n",
       "      <td>Sunday</td>\n",
       "      <td>11</td>\n",
       "    </tr>\n",
       "    <tr>\n",
       "      <th>4</th>\n",
       "      <td>307175</td>\n",
       "      <td>Comcast not working and no service to boot</td>\n",
       "      <td>26-05-15</td>\n",
       "      <td>26-May-15</td>\n",
       "      <td>1:25:26 PM</td>\n",
       "      <td>Internet</td>\n",
       "      <td>Acworth</td>\n",
       "      <td>Georgia</td>\n",
       "      <td>30101</td>\n",
       "      <td>Solved</td>\n",
       "      <td>No</td>\n",
       "      <td>2015-05-26 13:25:26</td>\n",
       "      <td>May</td>\n",
       "      <td>26</td>\n",
       "      <td>2015</td>\n",
       "      <td>Tuesday</td>\n",
       "      <td>13</td>\n",
       "    </tr>\n",
       "  </tbody>\n",
       "</table>\n",
       "</div>"
      ],
      "text/plain": [
       "  Ticket #                                 Customer Complaint      Date  \\\n",
       "0   250635                      Comcast Cable Internet Speeds  22-04-15   \n",
       "1   223441       Payment disappear - service got disconnected  04-08-15   \n",
       "2   242732                                  Speed and Service  18-04-15   \n",
       "3   277946  Comcast Imposed a New Usage Cap of 300GB that ...  05-07-15   \n",
       "4   307175         Comcast not working and no service to boot  26-05-15   \n",
       "\n",
       "  Date_month_year         Time        Received Via      City     State  \\\n",
       "0       22-Apr-15   3:53:50 PM  Customer Care Call  Abingdon  Maryland   \n",
       "1       04-Aug-15  10:22:56 AM            Internet   Acworth   Georgia   \n",
       "2       18-Apr-15   9:55:47 AM            Internet   Acworth   Georgia   \n",
       "3       05-Jul-15  11:59:35 AM            Internet   Acworth   Georgia   \n",
       "4       26-May-15   1:25:26 PM            Internet   Acworth   Georgia   \n",
       "\n",
       "   Zip code  Status Filing on Behalf of Someone  New_Date_with_time New_Month  \\\n",
       "0     21009  Closed                          No 2015-04-22 15:53:50     April   \n",
       "1     30102  Closed                          No 2015-08-04 10:22:56    August   \n",
       "2     30101  Closed                         Yes 2015-04-18 09:55:47     April   \n",
       "3     30101    Open                         Yes 2015-07-05 11:59:35      July   \n",
       "4     30101  Solved                          No 2015-05-26 13:25:26       May   \n",
       "\n",
       "  New_Date New_Year        Day Hour  \n",
       "0       22     2015  Wednesday   15  \n",
       "1       04     2015    Tuesday   10  \n",
       "2       18     2015   Saturday   09  \n",
       "3       05     2015     Sunday   11  \n",
       "4       26     2015    Tuesday   13  "
      ]
     },
     "execution_count": 10,
     "metadata": {},
     "output_type": "execute_result"
    }
   ],
   "source": [
    "df['New_Month']=df['New_Date_with_time'].dt.strftime('%B') #Extract Month from the New Date with time column\n",
    "df['New_Date']=df['New_Date_with_time'].dt.strftime('%d') # Extract Date from the New Date column\n",
    "df['New_Year']=df['New_Date_with_time'].dt.strftime('%Y') # Extract Year \n",
    "df['Day']=df['New_Date_with_time'].dt.strftime('%A')   # Extract Day \n",
    "df['Hour']=df['New_Date_with_time'].dt.strftime('%H')  # Extract Hour\n",
    "df.info()\n",
    "df.head()"
   ]
  },
  {
   "cell_type": "code",
   "execution_count": 11,
   "metadata": {},
   "outputs": [
    {
     "data": {
      "text/plain": [
       "June         1046\n",
       "April         375\n",
       "May           317\n",
       "August         67\n",
       "December       65\n",
       "February       59\n",
       "September      55\n",
       "January        55\n",
       "October        53\n",
       "July           49\n",
       "March          45\n",
       "November       38\n",
       "Name: New_Month, dtype: int64"
      ]
     },
     "execution_count": 11,
     "metadata": {},
     "output_type": "execute_result"
    }
   ],
   "source": [
    "df['New_Month'].value_counts() # Provide the Information which month has Highest number of Complaints  \n"
   ]
  },
  {
   "cell_type": "code",
   "execution_count": 12,
   "metadata": {},
   "outputs": [
    {
     "data": {
      "text/plain": [
       "<AxesSubplot:>"
      ]
     },
     "execution_count": 12,
     "metadata": {},
     "output_type": "execute_result"
    },
    {
     "data": {
      "image/png": "[encoded data removed]",
      "text/plain": [
       "<Figure size 432x288 with 1 Axes>"
      ]
     },
     "metadata": {
      "needs_background": "light"
     },
     "output_type": "display_data"
    }
   ],
   "source": [
    "#June APril and May months has Highest No of complaints \n",
    "df['New_Month'].value_counts().plot.bar()"
   ]
  },
  {
   "cell_type": "code",
   "execution_count": 13,
   "metadata": {},
   "outputs": [
    {
     "data": {
      "text/plain": [
       "2015    2224\n",
       "Name: New_Year, dtype: int64"
      ]
     },
     "execution_count": 13,
     "metadata": {},
     "output_type": "execute_result"
    }
   ],
   "source": [
    "df['New_Year'].value_counts()"
   ]
  },
  {
   "cell_type": "code",
   "execution_count": 14,
   "metadata": {},
   "outputs": [
    {
     "data": {
      "text/plain": [
       "Tuesday      464\n",
       "Wednesday    441\n",
       "Thursday     331\n",
       "Friday       290\n",
       "Monday       256\n",
       "Sunday       228\n",
       "Saturday     214\n",
       "Name: Day, dtype: int64"
      ]
     },
     "execution_count": 14,
     "metadata": {},
     "output_type": "execute_result"
    }
   ],
   "source": [
    "df['Day'].value_counts()  # to check on which day of the week more complaints has been raised \n",
    "# Tuesday and Wed has more compalints rather then on Weekends (sat and sun)"
   ]
  },
  {
   "cell_type": "code",
   "execution_count": 15,
   "metadata": {},
   "outputs": [
    {
     "data": {
      "text/plain": [
       "<AxesSubplot:>"
      ]
     },
     "execution_count": 15,
     "metadata": {},
     "output_type": "execute_result"
    },
    {
     "data": {
      "image/png": "[encoded data removed]",
      "text/plain": [
       "<Figure size 432x288 with 1 Axes>"
      ]
     },
     "metadata": {
      "needs_background": "light"
     },
     "output_type": "display_data"
    }
   ],
   "source": [
    "df['Day'].value_counts().plot.bar()\n"
   ]
  },
  {
   "cell_type": "code",
   "execution_count": 16,
   "metadata": {},
   "outputs": [
    {
     "data": {
      "text/plain": [
       "16    177\n",
       "14    171\n",
       "13    161\n",
       "11    152\n",
       "15    151\n",
       "12    148\n",
       "17    137\n",
       "21    123\n",
       "22    120\n",
       "10    119\n",
       "19    115\n",
       "18    109\n",
       "09    107\n",
       "20    102\n",
       "23     74\n",
       "00     59\n",
       "08     50\n",
       "01     43\n",
       "07     27\n",
       "02     26\n",
       "04     19\n",
       "03     15\n",
       "06     12\n",
       "05      7\n",
       "Name: Hour, dtype: int64"
      ]
     },
     "execution_count": 16,
     "metadata": {},
     "output_type": "execute_result"
    }
   ],
   "source": [
    "df['Hour'].value_counts()  # to check max on which time complaints has been logged \n",
    "#16 i.e 4 PM , 2 PM , 1 PM  mostly during mid day complaints has been raised   "
   ]
  },
  {
   "cell_type": "code",
   "execution_count": 17,
   "metadata": {},
   "outputs": [
    {
     "data": {
      "image/png": "[encoded data removed]",
      "text/plain": [
       "<Figure size 1080x360 with 1 Axes>"
      ]
     },
     "metadata": {
      "needs_background": "light"
     },
     "output_type": "display_data"
    }
   ],
   "source": [
    "import matplotlib.pyplot as plt\n",
    "from matplotlib import style\n",
    "\n",
    "s= df.groupby('Hour').size()\n",
    "f = plt.figure()\n",
    "f.set_figwidth(15)\n",
    "f.set_figheight(5)\n",
    "plt.plot(s , marker='o', linestyle='-',linewidth=2, markersize=5 )\n",
    "plt.ylabel('No of Complaints')\n",
    "#plt.annotate('Max',ha='center' , xy = (16,150) ,va='bottom',arrowprops={'facecolor': 'blue'})\n",
    "plt.xlabel('Time in 24 Hr format')\n",
    "plt.title('Hourly complaint')\n",
    "plt.show()"
   ]
  },
  {
   "cell_type": "code",
   "execution_count": 18,
   "metadata": {},
   "outputs": [
    {
     "data": {
      "text/plain": [
       "[<matplotlib.lines.Line2D at 0x7fd6de001510>]"
      ]
     },
     "execution_count": 18,
     "metadata": {},
     "output_type": "execute_result"
    },
    {
     "data": {
      "image/png": "[encoded data removed]",
      "text/plain": [
       "<Figure size 1080x1080 with 12 Axes>"
      ]
     },
     "metadata": {
      "needs_background": "light"
     },
     "output_type": "display_data"
    }
   ],
   "source": [
    "m_df=df.groupby(['New_Month','New_Date']).size()\n",
    "df_jan=df.groupby('New_Month').get_group('January')\n",
    "jan_plot = df_jan.groupby('New_Date').size()\n",
    "\n",
    "df_feb=df.groupby('New_Month').get_group('February')\n",
    "feb_plot = df_feb.groupby('New_Date').size()\n",
    "\n",
    "df_mar=df.groupby('New_Month').get_group('March')\n",
    "mar_plot = df_mar.groupby('New_Date').size()\n",
    "\n",
    "df_apr=df.groupby('New_Month').get_group('April')\n",
    "apr_plot = df_apr.groupby('New_Date').size()\n",
    "\n",
    "df_may=df.groupby('New_Month').get_group('May')\n",
    "may_plot = df_may.groupby('New_Date').size()\n",
    "\n",
    "df_jun=df.groupby('New_Month').get_group('June')\n",
    "jun_plot = df_jun.groupby('New_Date').size()\n",
    "\n",
    "df_jul=df.groupby('New_Month').get_group('July')\n",
    "jul_plot = df_jul.groupby('New_Date').size()\n",
    "\n",
    "df_aug=df.groupby('New_Month').get_group('August')\n",
    "aug_plot = df_aug.groupby('New_Date').size()\n",
    "\n",
    "df_sep=df.groupby('New_Month').get_group('September')\n",
    "sep_plot = df_sep.groupby('New_Date').size()\n",
    "\n",
    "df_oct=df.groupby('New_Month').get_group('October')\n",
    "oct_plot = df_oct.groupby('New_Date').size()\n",
    "\n",
    "df_nov=df.groupby('New_Month').get_group('November')\n",
    "nov_plot = df_nov.groupby('New_Date').size()\n",
    "\n",
    "df_dec=df.groupby('New_Month').get_group('December')\n",
    "dec_plot = df_dec.groupby('New_Date').size()\n",
    "\n",
    "f = plt.figure()\n",
    "f.set_figwidth(15)\n",
    "f.set_figheight(15)\n",
    "plt.subplots_adjust(hspace=.5 , wspace=.5)\n",
    "plt.subplot(4,3,1)\n",
    "plt.title('Jan')\n",
    "plt.xlabel('Days')\n",
    "plt.ylabel('No Of Complaints')\n",
    "plt.plot(jan_plot , marker='o', linestyle='-',linewidth=2, markersize=5 , c='red' , label='Jan')\n",
    "\n",
    "plt.subplot(4,3,2)\n",
    "plt.title('Feb')\n",
    "plt.xlabel('Days')\n",
    "plt.ylabel('No Of Complaints')\n",
    "plt.plot(feb_plot , marker='o', linestyle='-',linewidth=2, markersize=5, c='green' , label='Feb')\n",
    "\n",
    "plt.subplot(4,3,3)\n",
    "plt.title('Mar')\n",
    "plt.xlabel('Days')\n",
    "plt.ylabel('No Of Complaints')\n",
    "plt.plot(mar_plot , marker='o', linestyle='-',linewidth=2, markersize=5, c='yellow' , label='Mar')\n",
    "\n",
    "plt.subplot(4,3,4)\n",
    "plt.title('Apr')\n",
    "plt.xlabel('Days')\n",
    "plt.ylabel('No Of Complaints')\n",
    "plt.plot(apr_plot , marker='o', linestyle='-',linewidth=2, markersize=5, c='blue', label='Apr')\n",
    "\n",
    "plt.subplot(4,3,5)\n",
    "plt.title('May')\n",
    "plt.xlabel('Days')\n",
    "plt.ylabel('No Of Complaints')\n",
    "plt.plot(may_plot , marker='o', linestyle='-',linewidth=2, markersize=5, c='black', label='May' )\n",
    "\n",
    "plt.subplot(4,3,6)\n",
    "plt.title('Jun')\n",
    "plt.xlabel('Days')\n",
    "plt.ylabel('No Of Complaints')\n",
    "plt.plot(jun_plot , marker='o', linestyle='-',linewidth=2, markersize=5, c='m', label='Jun')\n",
    "\n",
    "plt.subplot(4,3,7)\n",
    "plt.title('Jul')\n",
    "plt.xlabel('Days')\n",
    "plt.ylabel('No Of Complaints')\n",
    "plt.plot(jul_plot , marker='o', linestyle='--',linewidth=2, markersize=5, c= 'red' , label='Jul')\n",
    "\n",
    "plt.subplot(4,3,8)\n",
    "plt.title('Aug')\n",
    "plt.xlabel('Days')\n",
    "plt.ylabel('No Of Complaints')\n",
    "plt.plot(aug_plot , marker='o', linestyle='--',linewidth=2, markersize=5, c='green', label='Aug')\n",
    "\n",
    "plt.subplot(4,3,9)\n",
    "plt.title('Sep')\n",
    "plt.xlabel('Days')\n",
    "plt.ylabel('No Of Complaints')\n",
    "plt.plot(sep_plot , marker='o', linestyle='--',linewidth=2, markersize=5 ,c='yellow', label='Sep')\n",
    "          \n",
    "plt.subplot(4,3,10)\n",
    "plt.title('Oct')\n",
    "plt.xlabel('Days')\n",
    "plt.ylabel('No Of Complaints')\n",
    "plt.plot(oct_plot , marker='o', linestyle='--',linewidth=2, markersize=5, c='blue', label='Oct')\n",
    "          \n",
    "plt.subplot(4,3,11)\n",
    "plt.title('Nov')\n",
    "plt.xlabel('Days')\n",
    "plt.ylabel('No Of Complaints')\n",
    "plt.plot(nov_plot , marker='o', linestyle='--',linewidth=2, markersize=5 , c='black', label='Nov')\n",
    "          \n",
    "plt.subplot(4,3,12)\n",
    "plt.title('Dec')\n",
    "plt.xlabel('Days')\n",
    "plt.ylabel('No Of Complaints')\n",
    "plt.plot(dec_plot , marker='o', linestyle='--',linewidth=2, markersize=5, c='m', label='Dec')\n",
    "          \n"
   ]
  },
  {
   "cell_type": "code",
   "execution_count": 19,
   "metadata": {},
   "outputs": [],
   "source": [
    "#subplot Analysis \n",
    "# 1. Except Apr May and June remaining monts the trend of complaints are same i.e complaints are raised on Month starting from 01st to 6th \n",
    "# 2. Apr,May ,Jun has more number of complaint throught out the month \n",
    "# 3. Jun has maximum numebr of complaints "
   ]
  },
  {
   "cell_type": "code",
   "execution_count": 20,
   "metadata": {},
   "outputs": [
    {
     "data": {
      "text/plain": [
       "<AxesSubplot:xlabel='New_Date_with_time'>"
      ]
     },
     "execution_count": 20,
     "metadata": {},
     "output_type": "execute_result"
    },
    {
     "data": {
      "image/png": "[encoded data removed]",
      "text/plain": [
       "<Figure size 432x288 with 1 Axes>"
      ]
     },
     "metadata": {
      "needs_background": "light"
     },
     "output_type": "display_data"
    }
   ],
   "source": [
    "\n",
    "df=df.set_index(df['New_Date_with_time'])\n",
    "df\n",
    "f = df.groupby(pd.Grouper(freq=\"M\")).size()\n",
    "f.plot()"
   ]
  },
  {
   "cell_type": "code",
   "execution_count": 21,
   "metadata": {},
   "outputs": [
    {
     "data": {
      "text/html": [
       "<div>\n",
       "<style scoped>\n",
       "    .dataframe tbody tr th:only-of-type {\n",
       "        vertical-align: middle;\n",
       "    }\n",
       "\n",
       "    .dataframe tbody tr th {\n",
       "        vertical-align: top;\n",
       "    }\n",
       "\n",
       "    .dataframe thead th {\n",
       "        text-align: right;\n",
       "    }\n",
       "</style>\n",
       "<table border=\"1\" class=\"dataframe\">\n",
       "  <thead>\n",
       "    <tr style=\"text-align: right;\">\n",
       "      <th></th>\n",
       "      <th>Ticket #</th>\n",
       "      <th>Customer Complaint</th>\n",
       "      <th>Date</th>\n",
       "      <th>Date_month_year</th>\n",
       "      <th>Time</th>\n",
       "      <th>Received Via</th>\n",
       "      <th>City</th>\n",
       "      <th>State</th>\n",
       "      <th>Zip code</th>\n",
       "      <th>Status</th>\n",
       "      <th>Filing on Behalf of Someone</th>\n",
       "      <th>New_Date_with_time</th>\n",
       "      <th>New_Month</th>\n",
       "      <th>New_Date</th>\n",
       "      <th>New_Year</th>\n",
       "      <th>Day</th>\n",
       "      <th>Hour</th>\n",
       "      <th>New_Status</th>\n",
       "    </tr>\n",
       "    <tr>\n",
       "      <th>New_Date_with_time</th>\n",
       "      <th></th>\n",
       "      <th></th>\n",
       "      <th></th>\n",
       "      <th></th>\n",
       "      <th></th>\n",
       "      <th></th>\n",
       "      <th></th>\n",
       "      <th></th>\n",
       "      <th></th>\n",
       "      <th></th>\n",
       "      <th></th>\n",
       "      <th></th>\n",
       "      <th></th>\n",
       "      <th></th>\n",
       "      <th></th>\n",
       "      <th></th>\n",
       "      <th></th>\n",
       "      <th></th>\n",
       "    </tr>\n",
       "  </thead>\n",
       "  <tbody>\n",
       "    <tr>\n",
       "      <th>2015-04-22 15:53:50</th>\n",
       "      <td>250635</td>\n",
       "      <td>Comcast Cable Internet Speeds</td>\n",
       "      <td>22-04-15</td>\n",
       "      <td>22-Apr-15</td>\n",
       "      <td>3:53:50 PM</td>\n",
       "      <td>Customer Care Call</td>\n",
       "      <td>Abingdon</td>\n",
       "      <td>Maryland</td>\n",
       "      <td>21009</td>\n",
       "      <td>Closed</td>\n",
       "      <td>No</td>\n",
       "      <td>2015-04-22 15:53:50</td>\n",
       "      <td>April</td>\n",
       "      <td>22</td>\n",
       "      <td>2015</td>\n",
       "      <td>Wednesday</td>\n",
       "      <td>15</td>\n",
       "      <td>Closed</td>\n",
       "    </tr>\n",
       "    <tr>\n",
       "      <th>2015-08-04 10:22:56</th>\n",
       "      <td>223441</td>\n",
       "      <td>Payment disappear - service got disconnected</td>\n",
       "      <td>04-08-15</td>\n",
       "      <td>04-Aug-15</td>\n",
       "      <td>10:22:56 AM</td>\n",
       "      <td>Internet</td>\n",
       "      <td>Acworth</td>\n",
       "      <td>Georgia</td>\n",
       "      <td>30102</td>\n",
       "      <td>Closed</td>\n",
       "      <td>No</td>\n",
       "      <td>2015-08-04 10:22:56</td>\n",
       "      <td>August</td>\n",
       "      <td>04</td>\n",
       "      <td>2015</td>\n",
       "      <td>Tuesday</td>\n",
       "      <td>10</td>\n",
       "      <td>Closed</td>\n",
       "    </tr>\n",
       "    <tr>\n",
       "      <th>2015-04-18 09:55:47</th>\n",
       "      <td>242732</td>\n",
       "      <td>Speed and Service</td>\n",
       "      <td>18-04-15</td>\n",
       "      <td>18-Apr-15</td>\n",
       "      <td>9:55:47 AM</td>\n",
       "      <td>Internet</td>\n",
       "      <td>Acworth</td>\n",
       "      <td>Georgia</td>\n",
       "      <td>30101</td>\n",
       "      <td>Closed</td>\n",
       "      <td>Yes</td>\n",
       "      <td>2015-04-18 09:55:47</td>\n",
       "      <td>April</td>\n",
       "      <td>18</td>\n",
       "      <td>2015</td>\n",
       "      <td>Saturday</td>\n",
       "      <td>09</td>\n",
       "      <td>Closed</td>\n",
       "    </tr>\n",
       "    <tr>\n",
       "      <th>2015-07-05 11:59:35</th>\n",
       "      <td>277946</td>\n",
       "      <td>Comcast Imposed a New Usage Cap of 300GB that ...</td>\n",
       "      <td>05-07-15</td>\n",
       "      <td>05-Jul-15</td>\n",
       "      <td>11:59:35 AM</td>\n",
       "      <td>Internet</td>\n",
       "      <td>Acworth</td>\n",
       "      <td>Georgia</td>\n",
       "      <td>30101</td>\n",
       "      <td>Open</td>\n",
       "      <td>Yes</td>\n",
       "      <td>2015-07-05 11:59:35</td>\n",
       "      <td>July</td>\n",
       "      <td>05</td>\n",
       "      <td>2015</td>\n",
       "      <td>Sunday</td>\n",
       "      <td>11</td>\n",
       "      <td>Open</td>\n",
       "    </tr>\n",
       "    <tr>\n",
       "      <th>2015-05-26 13:25:26</th>\n",
       "      <td>307175</td>\n",
       "      <td>Comcast not working and no service to boot</td>\n",
       "      <td>26-05-15</td>\n",
       "      <td>26-May-15</td>\n",
       "      <td>1:25:26 PM</td>\n",
       "      <td>Internet</td>\n",
       "      <td>Acworth</td>\n",
       "      <td>Georgia</td>\n",
       "      <td>30101</td>\n",
       "      <td>Solved</td>\n",
       "      <td>No</td>\n",
       "      <td>2015-05-26 13:25:26</td>\n",
       "      <td>May</td>\n",
       "      <td>26</td>\n",
       "      <td>2015</td>\n",
       "      <td>Tuesday</td>\n",
       "      <td>13</td>\n",
       "      <td>Closed</td>\n",
       "    </tr>\n",
       "  </tbody>\n",
       "</table>\n",
       "</div>"
      ],
      "text/plain": [
       "                    Ticket #  \\\n",
       "New_Date_with_time             \n",
       "2015-04-22 15:53:50   250635   \n",
       "2015-08-04 10:22:56   223441   \n",
       "2015-04-18 09:55:47   242732   \n",
       "2015-07-05 11:59:35   277946   \n",
       "2015-05-26 13:25:26   307175   \n",
       "\n",
       "                                                    Customer Complaint  \\\n",
       "New_Date_with_time                                                       \n",
       "2015-04-22 15:53:50                      Comcast Cable Internet Speeds   \n",
       "2015-08-04 10:22:56       Payment disappear - service got disconnected   \n",
       "2015-04-18 09:55:47                                  Speed and Service   \n",
       "2015-07-05 11:59:35  Comcast Imposed a New Usage Cap of 300GB that ...   \n",
       "2015-05-26 13:25:26         Comcast not working and no service to boot   \n",
       "\n",
       "                         Date Date_month_year         Time  \\\n",
       "New_Date_with_time                                           \n",
       "2015-04-22 15:53:50  22-04-15       22-Apr-15   3:53:50 PM   \n",
       "2015-08-04 10:22:56  04-08-15       04-Aug-15  10:22:56 AM   \n",
       "2015-04-18 09:55:47  18-04-15       18-Apr-15   9:55:47 AM   \n",
       "2015-07-05 11:59:35  05-07-15       05-Jul-15  11:59:35 AM   \n",
       "2015-05-26 13:25:26  26-05-15       26-May-15   1:25:26 PM   \n",
       "\n",
       "                           Received Via      City     State  Zip code  Status  \\\n",
       "New_Date_with_time                                                              \n",
       "2015-04-22 15:53:50  Customer Care Call  Abingdon  Maryland     21009  Closed   \n",
       "2015-08-04 10:22:56            Internet   Acworth   Georgia     30102  Closed   \n",
       "2015-04-18 09:55:47            Internet   Acworth   Georgia     30101  Closed   \n",
       "2015-07-05 11:59:35            Internet   Acworth   Georgia     30101    Open   \n",
       "2015-05-26 13:25:26            Internet   Acworth   Georgia     30101  Solved   \n",
       "\n",
       "                    Filing on Behalf of Someone  New_Date_with_time New_Month  \\\n",
       "New_Date_with_time                                                              \n",
       "2015-04-22 15:53:50                          No 2015-04-22 15:53:50     April   \n",
       "2015-08-04 10:22:56                          No 2015-08-04 10:22:56    August   \n",
       "2015-04-18 09:55:47                         Yes 2015-04-18 09:55:47     April   \n",
       "2015-07-05 11:59:35                         Yes 2015-07-05 11:59:35      July   \n",
       "2015-05-26 13:25:26                          No 2015-05-26 13:25:26       May   \n",
       "\n",
       "                    New_Date New_Year        Day Hour New_Status  \n",
       "New_Date_with_time                                                \n",
       "2015-04-22 15:53:50       22     2015  Wednesday   15     Closed  \n",
       "2015-08-04 10:22:56       04     2015    Tuesday   10     Closed  \n",
       "2015-04-18 09:55:47       18     2015   Saturday   09     Closed  \n",
       "2015-07-05 11:59:35       05     2015     Sunday   11       Open  \n",
       "2015-05-26 13:25:26       26     2015    Tuesday   13     Closed  "
      ]
     },
     "execution_count": 21,
     "metadata": {},
     "output_type": "execute_result"
    }
   ],
   "source": [
    "#Create a new categorical variable with value as Open and Closed. Open & Pending is to be categorized as Open and Closed & Solved is to be categorized as Closed.\n",
    "df['New_Status'] =[ \"Open\" if Status==\"Open\" or Status==\"Pending\" else \"Closed\" for Status in df['Status'] ]\n",
    "df.head()"
   ]
  },
  {
   "cell_type": "code",
   "execution_count": 22,
   "metadata": {},
   "outputs": [
    {
     "data": {
      "text/plain": [
       "Closed    1707\n",
       "Open       517\n",
       "Name: New_Status, dtype: int64"
      ]
     },
     "execution_count": 22,
     "metadata": {},
     "output_type": "execute_result"
    }
   ],
   "source": [
    "df['New_Status'].value_counts()"
   ]
  },
  {
   "cell_type": "code",
   "execution_count": 23,
   "metadata": {},
   "outputs": [
    {
     "data": {
      "text/plain": [
       "State\n",
       "Alabama                  26\n",
       "Arizona                  20\n",
       "Arkansas                  6\n",
       "California              220\n",
       "Colorado                 80\n",
       "Connecticut              12\n",
       "Delaware                 12\n",
       "District Of Columbia     16\n",
       "District of Columbia      1\n",
       "Florida                 240\n",
       "Georgia                 288\n",
       "Illinois                164\n",
       "Indiana                  59\n",
       "Iowa                      1\n",
       "Kansas                    2\n",
       "Kentucky                  7\n",
       "Louisiana                13\n",
       "Maine                     5\n",
       "Maryland                 78\n",
       "Massachusetts            61\n",
       "Michigan                115\n",
       "Minnesota                33\n",
       "Mississippi              39\n",
       "Missouri                  4\n",
       "Montana                   1\n",
       "Nevada                    1\n",
       "New Hampshire            12\n",
       "New Jersey               75\n",
       "New Mexico               15\n",
       "New York                  6\n",
       "North Carolina            3\n",
       "Ohio                      3\n",
       "Oregon                   49\n",
       "Pennsylvania            130\n",
       "Rhode Island              1\n",
       "South Carolina           18\n",
       "Tennessee               143\n",
       "Texas                    71\n",
       "Utah                     22\n",
       "Vermont                   3\n",
       "Virginia                 60\n",
       "Washington               98\n",
       "West Virginia            11\n",
       "dtype: int64"
      ]
     },
     "execution_count": 23,
     "metadata": {},
     "output_type": "execute_result"
    }
   ],
   "source": [
    "df.groupby('State').size()"
   ]
  },
  {
   "cell_type": "code",
   "execution_count": 24,
   "metadata": {},
   "outputs": [
    {
     "name": "stdout",
     "output_type": "stream",
     "text": [
      "State with max open tickets is Georgia  :  80.0\n",
      "State with max open tickets is Georgia  :  208.0\n",
      "State with max tickets is  Georgia  :  288.0\n"
     ]
    },
    {
     "data": {
      "text/plain": [
       "<AxesSubplot:xlabel='State'>"
      ]
     },
     "execution_count": 24,
     "metadata": {},
     "output_type": "execute_result"
    },
    {
     "data": {
      "image/png": "[encoded data removed]",
      "text/plain": [
       "<Figure size 2160x2160 with 1 Axes>"
      ]
     },
     "metadata": {
      "needs_background": "light"
     },
     "output_type": "display_data"
    }
   ],
   "source": [
    "df.columns #\n",
    "St_df = df.groupby(['State','New_Status']).size().unstack().fillna(0).reset_index()\n",
    "St_df.columns\n",
    "St_df['Total'] = St_df['Open']+St_df['Closed']\n",
    "print ('State with max open tickets is', St_df.iloc[St_df['Open'].idxmax()]['State'],' : ',St_df['Open'].max())\n",
    "print ('State with max open tickets is', St_df.iloc[St_df['Closed'].idxmax()]['State'],' : ',St_df['Closed'].max())\n",
    "print ('State with max tickets is ', St_df.iloc[St_df['Total'].idxmax()]['State'],' : ',St_df['Total'].max())\n",
    "df.groupby(['State','New_Status']).size().unstack().fillna(0).plot(kind='bar',stacked=True , figsize=(30,30))\n"
   ]
  },
  {
   "cell_type": "code",
   "execution_count": 25,
   "metadata": {},
   "outputs": [
    {
     "data": {
      "text/html": [
       "<div>\n",
       "<style scoped>\n",
       "    .dataframe tbody tr th:only-of-type {\n",
       "        vertical-align: middle;\n",
       "    }\n",
       "\n",
       "    .dataframe tbody tr th {\n",
       "        vertical-align: top;\n",
       "    }\n",
       "\n",
       "    .dataframe thead th {\n",
       "        text-align: right;\n",
       "    }\n",
       "</style>\n",
       "<table border=\"1\" class=\"dataframe\">\n",
       "  <thead>\n",
       "    <tr style=\"text-align: right;\">\n",
       "      <th>New_Status</th>\n",
       "      <th>Received Via</th>\n",
       "      <th>Closed</th>\n",
       "      <th>Open</th>\n",
       "    </tr>\n",
       "  </thead>\n",
       "  <tbody>\n",
       "    <tr>\n",
       "      <th>0</th>\n",
       "      <td>Customer Care Call</td>\n",
       "      <td>864</td>\n",
       "      <td>255</td>\n",
       "    </tr>\n",
       "    <tr>\n",
       "      <th>1</th>\n",
       "      <td>Internet</td>\n",
       "      <td>843</td>\n",
       "      <td>262</td>\n",
       "    </tr>\n",
       "  </tbody>\n",
       "</table>\n",
       "</div>"
      ],
      "text/plain": [
       "New_Status        Received Via  Closed  Open\n",
       "0           Customer Care Call     864   255\n",
       "1                     Internet     843   262"
      ]
     },
     "execution_count": 25,
     "metadata": {},
     "output_type": "execute_result"
    }
   ],
   "source": [
    "#Provide the percentage of complaints resolved till date, which were received through the Internet and customer care calls.\n",
    "df.columns\n",
    "df_rcv = df.groupby(['Received Via','New_Status']).size().unstack().reset_index() #count()['State']\n",
    "df_rcv"
   ]
  },
  {
   "cell_type": "code",
   "execution_count": 26,
   "metadata": {},
   "outputs": [
    {
     "data": {
      "text/plain": [
       "[]"
      ]
     },
     "execution_count": 26,
     "metadata": {},
     "output_type": "execute_result"
    },
    {
     "data": {
      "image/png": "[encoded data removed]",
      "text/plain": [
       "<Figure size 432x288 with 2 Axes>"
      ]
     },
     "metadata": {},
     "output_type": "display_data"
    }
   ],
   "source": [
    "plt.subplots_adjust(hspace=.5 , wspace=.5)\n",
    "plt.subplot(1,2,1)\n",
    "plt.title('Closed Tickets')\n",
    "plt.pie(df_rcv['Closed'],labels=df_rcv['Received Via'],autopct='%1.2f%%')\n",
    "plt.plot()\n",
    "plt.subplot(1,2,2)\n",
    "plt.title('Open Tickets ')\n",
    "plt.pie(df_rcv['Open'],labels=df_rcv['Received Via'],autopct='%1.2f%%')\n",
    "plt.plot()\n"
   ]
  },
  {
   "cell_type": "code",
   "execution_count": 27,
   "metadata": {},
   "outputs": [
    {
     "data": {
      "text/plain": [
       "Comcast                                    83\n",
       "Comcast Internet                           18\n",
       "Comcast Data Cap                           17\n",
       "comcast                                    13\n",
       "Comcast Billing                            11\n",
       "                                           ..\n",
       "Billed without service                      1\n",
       "Comcast - Unfair billing policies           1\n",
       "comcast: no service for one month           1\n",
       "Deceptive Business Practices by Comcast     1\n",
       "Comcast Business internet                   1\n",
       "Name: Customer Complaint, Length: 1841, dtype: int64"
      ]
     },
     "execution_count": 27,
     "metadata": {},
     "output_type": "execute_result"
    }
   ],
   "source": [
    "#Which complaint types are maximum i.e., around internet, network issues, or across any other domains.\n",
    "df.head()\n",
    "df_com = df['Customer Complaint'].reset_index()\n",
    "df_com = df_com[['Customer Complaint']]\n",
    "df_com['Customer Complaint'].value_counts()"
   ]
  },
  {
   "cell_type": "code",
   "execution_count": 28,
   "metadata": {},
   "outputs": [],
   "source": [
    "from nltk.corpus import stopwords\n",
    "from nltk.stem import PorterStemmer\n",
    "import string\n"
   ]
  },
  {
   "cell_type": "code",
   "execution_count": 29,
   "metadata": {},
   "outputs": [],
   "source": [
    "def rmsw(msg):\n",
    "    porter = PorterStemmer()\n",
    "    non_p = [char for char in msg if char not in string.punctuation]\n",
    "    non_p= ''.join(non_p)\n",
    "    return[porter.stem(m.lower()) for m in non_p.split() if m not in stopwords.words('english')]"
   ]
  },
  {
   "cell_type": "code",
   "execution_count": 30,
   "metadata": {},
   "outputs": [
    {
     "data": {
      "text/plain": [
       "0                     [comcast, cabl, internet, speed]\n",
       "1        [payment, disappear, servic, got, disconnect]\n",
       "2                                      [speed, servic]\n",
       "3    [comcast, impos, new, usag, cap, 300gb, punish...\n",
       "4                        [comcast, work, servic, boot]\n",
       "Name: Customer Complaint, dtype: object"
      ]
     },
     "execution_count": 30,
     "metadata": {},
     "output_type": "execute_result"
    }
   ],
   "source": [
    "df_com['Customer Complaint'][0:5].apply(rmsw)"
   ]
  },
  {
   "cell_type": "code",
   "execution_count": 31,
   "metadata": {},
   "outputs": [
    {
     "data": {
      "text/plain": [
       "1247"
      ]
     },
     "execution_count": 31,
     "metadata": {},
     "output_type": "execute_result"
    }
   ],
   "source": [
    "from sklearn.feature_extraction.text import CountVectorizer , TfidfTransformer\n",
    "bow=CountVectorizer(analyzer=rmsw).fit(df_com['Customer Complaint'])\n",
    "len(bow.vocabulary_)"
   ]
  },
  {
   "cell_type": "code",
   "execution_count": 72,
   "metadata": {},
   "outputs": [
    {
     "data": {
      "text/plain": [
       "comcast     1200\n",
       "internet     517\n",
       "servic       496\n",
       "bill         361\n",
       "data         219\n",
       "            ... \n",
       "mistak         1\n",
       "misl           1\n",
       "mishandl       1\n",
       "misc           1\n",
       "0057           1\n",
       "Length: 1247, dtype: int64"
      ]
     },
     "execution_count": 72,
     "metadata": {},
     "output_type": "execute_result"
    }
   ],
   "source": [
    "m_bow = bow.transform(df_com['Customer Complaint'])\n",
    "m_bow\n",
    "dfb = pd.DataFrame(m_bow.toarray() , columns=bow.get_feature_names())\n",
    "df_t=dfb.sum().sort_values(ascending=False)\n",
    "df_t"
   ]
  },
  {
   "cell_type": "code",
   "execution_count": 73,
   "metadata": {},
   "outputs": [],
   "source": [
    "df_t1 = df_t.to_frame().reset_index()"
   ]
  },
  {
   "cell_type": "code",
   "execution_count": 78,
   "metadata": {},
   "outputs": [],
   "source": [
    "df_t1.rename(columns = {'index' : 'Word' ,0 : 'count'} , inplace = True)"
   ]
  },
  {
   "cell_type": "code",
   "execution_count": 117,
   "metadata": {},
   "outputs": [
    {
     "data": {
      "text/html": [
       "<div>\n",
       "<style scoped>\n",
       "    .dataframe tbody tr th:only-of-type {\n",
       "        vertical-align: middle;\n",
       "    }\n",
       "\n",
       "    .dataframe tbody tr th {\n",
       "        vertical-align: top;\n",
       "    }\n",
       "\n",
       "    .dataframe thead th {\n",
       "        text-align: right;\n",
       "    }\n",
       "</style>\n",
       "<table border=\"1\" class=\"dataframe\">\n",
       "  <thead>\n",
       "    <tr style=\"text-align: right;\">\n",
       "      <th></th>\n",
       "      <th>Word</th>\n",
       "      <th>count</th>\n",
       "    </tr>\n",
       "  </thead>\n",
       "  <tbody>\n",
       "    <tr>\n",
       "      <th>0</th>\n",
       "      <td>comcast</td>\n",
       "      <td>1200</td>\n",
       "    </tr>\n",
       "    <tr>\n",
       "      <th>1</th>\n",
       "      <td>internet</td>\n",
       "      <td>517</td>\n",
       "    </tr>\n",
       "    <tr>\n",
       "      <th>2</th>\n",
       "      <td>servic</td>\n",
       "      <td>496</td>\n",
       "    </tr>\n",
       "    <tr>\n",
       "      <th>3</th>\n",
       "      <td>bill</td>\n",
       "      <td>361</td>\n",
       "    </tr>\n",
       "    <tr>\n",
       "      <th>4</th>\n",
       "      <td>data</td>\n",
       "      <td>219</td>\n",
       "    </tr>\n",
       "    <tr>\n",
       "      <th>5</th>\n",
       "      <td>speed</td>\n",
       "      <td>187</td>\n",
       "    </tr>\n",
       "    <tr>\n",
       "      <th>6</th>\n",
       "      <td>cap</td>\n",
       "      <td>185</td>\n",
       "    </tr>\n",
       "    <tr>\n",
       "      <th>7</th>\n",
       "      <td>charg</td>\n",
       "      <td>146</td>\n",
       "    </tr>\n",
       "    <tr>\n",
       "      <th>8</th>\n",
       "      <td>issu</td>\n",
       "      <td>121</td>\n",
       "    </tr>\n",
       "    <tr>\n",
       "      <th>9</th>\n",
       "      <td>price</td>\n",
       "      <td>99</td>\n",
       "    </tr>\n",
       "    <tr>\n",
       "      <th>10</th>\n",
       "      <td>custom</td>\n",
       "      <td>91</td>\n",
       "    </tr>\n",
       "    <tr>\n",
       "      <th>11</th>\n",
       "      <td>practic</td>\n",
       "      <td>81</td>\n",
       "    </tr>\n",
       "    <tr>\n",
       "      <th>12</th>\n",
       "      <td>complaint</td>\n",
       "      <td>79</td>\n",
       "    </tr>\n",
       "    <tr>\n",
       "      <th>13</th>\n",
       "      <td>throttl</td>\n",
       "      <td>73</td>\n",
       "    </tr>\n",
       "    <tr>\n",
       "      <th>14</th>\n",
       "      <td>xfiniti</td>\n",
       "      <td>63</td>\n",
       "    </tr>\n",
       "    <tr>\n",
       "      <th>15</th>\n",
       "      <td>slow</td>\n",
       "      <td>61</td>\n",
       "    </tr>\n",
       "    <tr>\n",
       "      <th>16</th>\n",
       "      <td>unfair</td>\n",
       "      <td>58</td>\n",
       "    </tr>\n",
       "  </tbody>\n",
       "</table>\n",
       "</div>"
      ],
      "text/plain": [
       "         Word  count\n",
       "0     comcast   1200\n",
       "1    internet    517\n",
       "2      servic    496\n",
       "3        bill    361\n",
       "4        data    219\n",
       "5       speed    187\n",
       "6         cap    185\n",
       "7       charg    146\n",
       "8        issu    121\n",
       "9       price     99\n",
       "10     custom     91\n",
       "11    practic     81\n",
       "12  complaint     79\n",
       "13    throttl     73\n",
       "14    xfiniti     63\n",
       "15       slow     61\n",
       "16     unfair     58"
      ]
     },
     "execution_count": 117,
     "metadata": {},
     "output_type": "execute_result"
    }
   ],
   "source": [
    "df_t2 = df_t1.loc[df_t1['count']>50]\n",
    "df_t2"
   ]
  },
  {
   "cell_type": "code",
   "execution_count": 121,
   "metadata": {},
   "outputs": [
    {
     "data": {
      "image/png": "[encoded data removed]",
      "text/plain": [
       "<Figure size 720x720 with 1 Axes>"
      ]
     },
     "metadata": {
      "needs_background": "light"
     },
     "output_type": "display_data"
    }
   ],
   "source": [
    "df_t2.set_index(df_t2['Word'] , inplace= True)\n",
    "#df_t2['count'].plot(kind = 'barh' , figsize=(50,50))\n",
    "f = plt.figure()\n",
    "f.set_figwidth(10)\n",
    "f.set_figheight(10)\n",
    "plt.xticks(rotation = 90) \n",
    "plt.plot(df_t2['count'] , marker='o', linestyle='-',linewidth=2, markersize=5 ,  )\n",
    "plt.ylabel('No of Complaints')\n",
    "plt.show()\n",
    "#plt.xticks(rotation='vertical')\n",
    "#plt.plot(df_t2['count'])"
   ]
  }
 ],
 "metadata": {
  "kernelspec": {
   "display_name": "Python 3",
   "language": "python",
   "name": "python3"
  },
  "language_info": {
   "codemirror_mode": {
    "name": "ipython",
    "version": 3
   },
   "file_extension": ".py",
   "mimetype": "text/x-python",
   "name": "python",
   "nbconvert_exporter": "python",
   "pygments_lexer": "ipython3",
   "version": "3.7.6"
  }
 },
 "nbformat": 4,
 "nbformat_minor": 4
}
